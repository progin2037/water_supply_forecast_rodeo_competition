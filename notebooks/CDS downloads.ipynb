{
 "cells": [
  {
   "cell_type": "markdown",
   "id": "cb9509db",
   "metadata": {},
   "source": [
    "The script contains code for downloading CDS data used in the competition (https://cds.climate.copernicus.eu/cdsapp#!/dataset/reanalysis-era5-land-monthly-means?tab=overview and https://cds.climate.copernicus.eu/cdsapp#!/dataset/seasonal-original-single-levels?tab=overview). It is provided in a Jupyter Notebook to keep track of already downloaded data easier."
   ]
  },
  {
   "cell_type": "code",
   "execution_count": null,
   "id": "0a956884",
   "metadata": {
    "scrolled": true
   },
   "outputs": [],
   "source": [
    "import pandas as pd\n",
    "import numpy as np\n",
    "import geopandas as gpd\n",
    "import cdsapi\n",
    "import eccodes\n",
    "import xarray as xr\n",
    "import os"
   ]
  },
  {
   "cell_type": "code",
   "execution_count": null,
   "id": "d4b7bc21",
   "metadata": {},
   "outputs": [],
   "source": [
    "#Go one directory up, to get a parent directory with utils\n",
    "par_dir = os.path.dirname(os.getcwd())\n",
    "os.chdir(par_dir)"
   ]
  },
  {
   "cell_type": "code",
   "execution_count": null,
   "id": "4040c1a9",
   "metadata": {
    "scrolled": true
   },
   "outputs": [],
   "source": [
    "#Get site_id locations combinations. Locations are provided as polygons\n",
    "geospatial = gpd.read_file('data/geospatial.gpkg')\n",
    "geospatial"
   ]
  },
  {
   "cell_type": "code",
   "execution_count": null,
   "id": "e226ef0e",
   "metadata": {},
   "outputs": [],
   "source": [
    "#Get current working directory\n",
    "cwd = os.getcwd()"
   ]
  },
  {
   "cell_type": "code",
   "execution_count": null,
   "id": "8762faaf",
   "metadata": {},
   "outputs": [],
   "source": [
    "#Initialize cdsapi client\n",
    "c = cdsapi.Client()"
   ]
  },
  {
   "cell_type": "code",
   "execution_count": null,
   "id": "884e5b1e",
   "metadata": {},
   "outputs": [],
   "source": [
    "def convert_nc_to_dateframe(path_input: str,\n",
    "                            path_output: str,\n",
    "                            all_touched: bool):\n",
    "    \"\"\"\n",
    "    Convert .nc gridded file to a DataFrame. Iterate over different site ids,\n",
    "    choose grids associated to the site id, average results over different grids\n",
    "    and save results.\n",
    "    \n",
    "    Args:\n",
    "        path_input (str): An input path to .nc file to process\n",
    "        path_output (str): An output .pkl path\n",
    "        all_touched (bool): Take into account gridded coordinates if any part of\n",
    "            the coordinates is within site id polygon's coordinates (True). If\n",
    "            coordinates' pixels should be in a center of polygon's coordinates,\n",
    "            assign value to False. True value is used if coordinate step is by\n",
    "            1. False is for 0.1 step. When step is bigger (by 1), any value that\n",
    "            touches the polygons should be assigned, otherwise there will be no match.\n",
    "            More about all_touched parameter could be found in the link below:\n",
    "            https://corteva.github.io/rioxarray/html/rioxarray.html#rioxarray.raster_array.RasterArray)        \n",
    "    \"\"\"\n",
    "    # Initialize a list where results from different dates are stored\n",
    "    stats_cds = []\n",
    "    # Read data from a specific year (forecast year)\n",
    "    cds_one_month = xr.open_dataset(path_input)\n",
    "    # Change encoding of coordinates\n",
    "    cds_one_month.rio.write_crs(\"epsg:4326\", inplace=True)\n",
    "    # Get variable names\n",
    "    cds_vars = list(cds_one_month.keys())\n",
    "    print('Processing different site ids:\\n')\n",
    "    # Iterate over rows from geospatial.gpkg\n",
    "    for _, geo in geospatial.iterrows():\n",
    "        site_id = geo.site_id\n",
    "        print(site_id)\n",
    "        # Keep only information from specific site_id\n",
    "        if all_touched:\n",
    "            # Use all_touched parameter\n",
    "            cds_data = cds_one_month.rio.clip([geo.geometry], all_touched=True)\n",
    "        else:\n",
    "            cds_data = cds_one_month.rio.clip([geo.geometry], all_touched=False)            \n",
    "        # Get number of different dates to iterate over\n",
    "        num_days = cds_data.dims['time']\n",
    "        # Iterate over different variables\n",
    "        for var in cds_vars:\n",
    "            date_values = []\n",
    "            # Iterate over different dates\n",
    "            for num_day in range(num_days):\n",
    "                # Get date\n",
    "                date = cds_data.time[num_day].values\n",
    "                # Get average value over different grids\n",
    "                mean_val = np.nanmean(cds_data[var][num_day])\n",
    "                date_values.append([site_id, date, mean_val])\n",
    "                # Append results from a specific forecast year - site_id combination\n",
    "                stats_cds.append([var, site_id, date, mean_val])\n",
    "    print('Creating a DataFrame')\n",
    "    # Crate a DataFrame from results\n",
    "    stats_cds = pd.DataFrame(stats_cds)\n",
    "    stats_cds.columns = ['cds_var', 'site_id', 'date', 'mean_value']\n",
    "    # Keep only site_id, date and CDS variables as columns\n",
    "    stats_cds = pd.pivot_table(stats_cds,\n",
    "                               values = 'mean_value',\n",
    "                               index = ['site_id', 'date'],\n",
    "                               columns = 'cds_var').reset_index()\n",
    "    # Add date columns\n",
    "    stats_cds['year'] = stats_cds.date.dt.year\n",
    "    stats_cds['month'] = stats_cds.date.dt.month\n",
    "    stats_cds['day'] = stats_cds.date.dt.day\n",
    "    stats_cds['hour'] = stats_cds.date.dt.hour\n",
    "    # Add forecast year\n",
    "    stats_cds['year_forecast'] = stats_cds.year\n",
    "    stats_cds.loc[stats_cds['month'].astype(int).between(10, 12), 'year_forecast'] =\\\n",
    "        stats_cds.year_forecast + 1\n",
    "    # Save data\n",
    "    print(f'\\nSaving data to {path_output}')\n",
    "    stats_cds.to_pickle(path_output)"
   ]
  },
  {
   "cell_type": "markdown",
   "id": "1f53bb73",
   "metadata": {},
   "source": [
    "# Monthly CDS data\n",
    "Monthly CDS data uses coordinates step by 0.1, so all_touched parameter isn't used."
   ]
  },
  {
   "cell_type": "code",
   "execution_count": null,
   "id": "e7d09696",
   "metadata": {},
   "outputs": [],
   "source": [
    "#all months snow by GRIB; area up to 51\n",
    "c.retrieve(\n",
    "    'reanalysis-era5-land-monthly-means',\n",
    "    {\n",
    "        'product_type': 'monthly_averaged_reanalysis',\n",
    "        'variable': 'snow_depth_water_equivalent',\n",
    "        'year': [\n",
    "            '1960', '1961', '1962', '1963', '1964', '1965', '1966',\n",
    "            '1967', '1968', '1969', '1970', '1971', '1972', '1973',\n",
    "            '1974', '1975', '1976', '1977', '1978', '1979', '1980',\n",
    "            '1981', '1982', '1983', '1984', '1985', '1986', '1987',\n",
    "            '1988', '1989', '1990', '1991', '1992', '1993', '1994',\n",
    "            '1995', '1996', '1997', '1998', '1999', '2000', '2001',\n",
    "            '2002', '2003', '2004', '2005', '2006', '2007', '2008',\n",
    "            '2009', '2010', '2011', '2012', '2013', '2014', '2015',\n",
    "            '2016', '2017', '2018', '2019', '2020', '2021', '2022',\n",
    "            '2023',\n",
    "        ],\n",
    "        'month': [\n",
    "            '01', '02', '03',\n",
    "            '04', '05', '06',\n",
    "            '10', '11', '12',\n",
    "        ],\n",
    "        'time': '00:00',\n",
    "        'area': [\n",
    "            51, -125, 32,\n",
    "            -100,\n",
    "        ],\n",
    "        'format': 'grib',\n",
    "    },\n",
    "    'cds_monthly_snow.grib')"
   ]
  },
  {
   "cell_type": "code",
   "execution_count": null,
   "id": "54c1c9d9",
   "metadata": {},
   "outputs": [],
   "source": [
    "#Convert .grib data to .nc format, save it to data/cds\n",
    "!grib_to_netcdf -o data\\cds\\cds_monthly_snow.nc cds_monthly_snow.grib"
   ]
  },
  {
   "cell_type": "code",
   "execution_count": null,
   "id": "38df10d3",
   "metadata": {},
   "outputs": [],
   "source": [
    "convert_nc_to_dateframe('data\\cds\\cds_monthly_snow.nc',\n",
    "                        'data\\cds\\cds_monthly_snow.pkl',\n",
    "                        False)"
   ]
  },
  {
   "cell_type": "markdown",
   "id": "3690fea9",
   "metadata": {},
   "source": [
    "# Seasonal forecasts data\n",
    "Coordinates for this data are with step 1, so all_touched parameter is used. Seasonal forecasts start from 1981.\n",
    "\n",
    "Forecasts for the end of March, April, May and June are downloaded (approximately from the last day of the month, 30 days step is used)."
   ]
  },
  {
   "cell_type": "markdown",
   "id": "30fa0c1c",
   "metadata": {},
   "source": [
    "# Dec"
   ]
  },
  {
   "cell_type": "code",
   "execution_count": null,
   "id": "3cd519a3",
   "metadata": {},
   "outputs": [],
   "source": [
    "c.retrieve(\n",
    "    'seasonal-original-single-levels',\n",
    "    {\n",
    "        'format': 'grib',\n",
    "        'originating_centre': 'ecmwf',\n",
    "        'system': '51',\n",
    "        'variable':'snow_depth',\n",
    "        'year': [\n",
    "            '1981', '1982', '1983',\n",
    "            '1984', '1985', '1986',\n",
    "            '1987', '1988', '1989',\n",
    "            '1990', '1991', '1992',\n",
    "            '1993', '1994', '1995',\n",
    "            '1996', '1997', '1998',\n",
    "            '1999', '2000', '2001',\n",
    "            '2002', '2003', '2004',\n",
    "            '2005', '2006', '2007',\n",
    "            '2008', '2009', '2010',\n",
    "            '2011', '2012', '2013',\n",
    "            '2014', '2015', '2016',\n",
    "            '2017', '2018', '2019',\n",
    "            '2020', '2021', '2022',\n",
    "            '2023',\n",
    "        ],\n",
    "        'month': '12',\n",
    "        'day': '01',\n",
    "        'leadtime_hour': [\n",
    "            '2880', '3600', '4320', '5040',\n",
    "        ],\n",
    "        'area': [\n",
    "            51, -125, 32,\n",
    "            -100,\n",
    "        ],\n",
    "    },\n",
    "    'seasonal_dec.grib')"
   ]
  },
  {
   "cell_type": "code",
   "execution_count": null,
   "id": "55fd2806",
   "metadata": {},
   "outputs": [],
   "source": [
    "# Convert .grib data to .nc format, save it to data/cds\n",
    "!grib_to_netcdf -o data\\cds\\seasonal_dec.nc seasonal_dec.grib"
   ]
  },
  {
   "cell_type": "code",
   "execution_count": null,
   "id": "07108a22",
   "metadata": {},
   "outputs": [],
   "source": [
    "# Convert to DataFrame\n",
    "convert_nc_to_dateframe('data\\cds\\seasonal_dec.nc',\n",
    "                        'data\\cds\\seasonal_dec.pkl',\n",
    "                        True)"
   ]
  },
  {
   "cell_type": "markdown",
   "id": "65695522",
   "metadata": {},
   "source": [
    "# Jan"
   ]
  },
  {
   "cell_type": "code",
   "execution_count": null,
   "id": "de2132fc",
   "metadata": {},
   "outputs": [],
   "source": [
    "c.retrieve(\n",
    "    'seasonal-original-single-levels',\n",
    "    {\n",
    "        'format': 'grib',\n",
    "        'originating_centre': 'ecmwf',\n",
    "        'system': '51',\n",
    "        'variable':'snow_depth',\n",
    "        'year': [\n",
    "            '1981', '1982', '1983',\n",
    "            '1984', '1985', '1986',\n",
    "            '1987', '1988', '1989',\n",
    "            '1990', '1991', '1992',\n",
    "            '1993', '1994', '1995',\n",
    "            '1996', '1997', '1998',\n",
    "            '1999', '2000', '2001',\n",
    "            '2002', '2003', '2004',\n",
    "            '2005', '2006', '2007',\n",
    "            '2008', '2009', '2010',\n",
    "            '2011', '2012', '2013',\n",
    "            '2014', '2015', '2016',\n",
    "            '2017', '2018', '2019',\n",
    "            '2020', '2021', '2022',\n",
    "            '2023',\n",
    "        ],\n",
    "        'month': '01',\n",
    "        'day': '01',\n",
    "        'leadtime_hour': [\n",
    "            '2160', '2880', '3600', '4320',\n",
    "        ],\n",
    "        'area': [\n",
    "            51, -125, 32,\n",
    "            -100,\n",
    "        ],\n",
    "    },\n",
    "    'seasonal_jan.grib')"
   ]
  },
  {
   "cell_type": "code",
   "execution_count": null,
   "id": "d9bc45be",
   "metadata": {},
   "outputs": [],
   "source": [
    "# Convert .grib data to .nc format, save it to data/cds\n",
    "!grib_to_netcdf -o data\\cds\\seasonal_jan.nc seasonal_jan.grib"
   ]
  },
  {
   "cell_type": "code",
   "execution_count": null,
   "id": "c3d288f2",
   "metadata": {},
   "outputs": [],
   "source": [
    "# Convert to DataFrame\n",
    "convert_nc_to_dateframe('data\\cds\\seasonal_jan.nc',\n",
    "                        'data\\cds\\seasonal_jan.pkl',\n",
    "                        True)"
   ]
  },
  {
   "cell_type": "markdown",
   "id": "c662b816",
   "metadata": {},
   "source": [
    "# Feb"
   ]
  },
  {
   "cell_type": "code",
   "execution_count": null,
   "id": "70adc046",
   "metadata": {},
   "outputs": [],
   "source": [
    "c.retrieve(\n",
    "    'seasonal-original-single-levels',\n",
    "    {\n",
    "        'format': 'grib',\n",
    "        'originating_centre': 'ecmwf',\n",
    "        'system': '51',\n",
    "        'variable':'snow_depth',\n",
    "        'year': [\n",
    "            '1981', '1982', '1983',\n",
    "            '1984', '1985', '1986',\n",
    "            '1987', '1988', '1989',\n",
    "            '1990', '1991', '1992',\n",
    "            '1993', '1994', '1995',\n",
    "            '1996', '1997', '1998',\n",
    "            '1999', '2000', '2001',\n",
    "            '2002', '2003', '2004',\n",
    "            '2005', '2006', '2007',\n",
    "            '2008', '2009', '2010',\n",
    "            '2011', '2012', '2013',\n",
    "            '2014', '2015', '2016',\n",
    "            '2017', '2018', '2019',\n",
    "            '2020', '2021', '2022',\n",
    "            '2023',\n",
    "        ],\n",
    "        'month': '02',\n",
    "        'day': '01',\n",
    "        'leadtime_hour': [\n",
    "            '1440', '2160', '2880', '3600',\n",
    "        ],\n",
    "        'area': [\n",
    "            51, -125, 32,\n",
    "            -100,\n",
    "        ],\n",
    "    },\n",
    "    'seasonal_feb.grib')"
   ]
  },
  {
   "cell_type": "code",
   "execution_count": null,
   "id": "d8941828",
   "metadata": {},
   "outputs": [],
   "source": [
    "# Convert .grib data to .nc format, save it to data/cds\n",
    "!grib_to_netcdf -o data\\cds\\seasonal_feb.nc seasonal_feb.grib"
   ]
  },
  {
   "cell_type": "code",
   "execution_count": null,
   "id": "af233ae0",
   "metadata": {},
   "outputs": [],
   "source": [
    "# Convert to DataFrame\n",
    "convert_nc_to_dateframe('data\\cds\\seasonal_feb.nc',\n",
    "                        'data\\cds\\seasonal_feb.pkl',\n",
    "                        True)"
   ]
  },
  {
   "cell_type": "markdown",
   "id": "f1770914",
   "metadata": {},
   "source": [
    "# Mar"
   ]
  },
  {
   "cell_type": "code",
   "execution_count": null,
   "id": "008b5a30",
   "metadata": {},
   "outputs": [],
   "source": [
    "c.retrieve(\n",
    "    'seasonal-original-single-levels',\n",
    "    {\n",
    "        'format': 'grib',\n",
    "        'originating_centre': 'ecmwf',\n",
    "        'system': '51',\n",
    "        'variable':'snow_depth',\n",
    "        'year': [\n",
    "            '1981', '1982', '1983',\n",
    "            '1984', '1985', '1986',\n",
    "            '1987', '1988', '1989',\n",
    "            '1990', '1991', '1992',\n",
    "            '1993', '1994', '1995',\n",
    "            '1996', '1997', '1998',\n",
    "            '1999', '2000', '2001',\n",
    "            '2002', '2003', '2004',\n",
    "            '2005', '2006', '2007',\n",
    "            '2008', '2009', '2010',\n",
    "            '2011', '2012', '2013',\n",
    "            '2014', '2015', '2016',\n",
    "            '2017', '2018', '2019',\n",
    "            '2020', '2021', '2022',\n",
    "            '2023',\n",
    "        ],\n",
    "        'month': '03',\n",
    "        'day': '01',\n",
    "        'leadtime_hour': [\n",
    "            '720', '1440', '2160', '2880',\n",
    "        ],\n",
    "        'area': [\n",
    "            51, -125, 32,\n",
    "            -100,\n",
    "        ],\n",
    "    },\n",
    "    'seasonal_mar.grib')"
   ]
  },
  {
   "cell_type": "code",
   "execution_count": null,
   "id": "457a57b2",
   "metadata": {},
   "outputs": [],
   "source": [
    "# Convert .grib data to .nc format, save it to data/cds\n",
    "!grib_to_netcdf -o data\\cds\\seasonal_mar.nc seasonal_mar.grib"
   ]
  },
  {
   "cell_type": "code",
   "execution_count": null,
   "id": "a9180ec9",
   "metadata": {},
   "outputs": [],
   "source": [
    "# Convert to DataFrame\n",
    "convert_nc_to_dateframe('data\\cds\\seasonal_mar.nc',\n",
    "                        'data\\cds\\seasonal_mar.pkl',\n",
    "                        True)"
   ]
  },
  {
   "cell_type": "markdown",
   "id": "faf0392b",
   "metadata": {},
   "source": [
    "# Apr"
   ]
  },
  {
   "cell_type": "code",
   "execution_count": null,
   "id": "37151abc",
   "metadata": {},
   "outputs": [],
   "source": [
    "c.retrieve(\n",
    "    'seasonal-original-single-levels',\n",
    "    {\n",
    "        'format': 'grib',\n",
    "        'originating_centre': 'ecmwf',\n",
    "        'system': '51',\n",
    "        'variable':'snow_depth',\n",
    "        'year': [\n",
    "            '1981', '1982', '1983',\n",
    "            '1984', '1985', '1986',\n",
    "            '1987', '1988', '1989',\n",
    "            '1990', '1991', '1992',\n",
    "            '1993', '1994', '1995',\n",
    "            '1996', '1997', '1998',\n",
    "            '1999', '2000', '2001',\n",
    "            '2002', '2003', '2004',\n",
    "            '2005', '2006', '2007',\n",
    "            '2008', '2009', '2010',\n",
    "            '2011', '2012', '2013',\n",
    "            '2014', '2015', '2016',\n",
    "            '2017', '2018', '2019',\n",
    "            '2020', '2021', '2022',\n",
    "            '2023',\n",
    "        ],\n",
    "        'month': '04',\n",
    "        'day': '01',\n",
    "        'leadtime_hour': [\n",
    "            '720', '1440', '2160',\n",
    "        ],\n",
    "        'area': [\n",
    "            51, -125, 32,\n",
    "            -100,\n",
    "        ],\n",
    "    },\n",
    "    'seasonal_apr.grib')"
   ]
  },
  {
   "cell_type": "code",
   "execution_count": null,
   "id": "b21da7ab",
   "metadata": {},
   "outputs": [],
   "source": [
    "# Convert .grib data to .nc format, save it to data/cds\n",
    "!grib_to_netcdf -o data\\cds\\seasonal_apr.nc seasonal_apr.grib"
   ]
  },
  {
   "cell_type": "code",
   "execution_count": null,
   "id": "73b7d039",
   "metadata": {},
   "outputs": [],
   "source": [
    "# Convert to DataFrame\n",
    "convert_nc_to_dateframe('data\\cds\\seasonal_apr.nc',\n",
    "                        'data\\cds\\seasonal_apr.pkl',\n",
    "                        True)"
   ]
  }
 ],
 "metadata": {
  "kernelspec": {
   "display_name": "Python 3 (ipykernel)",
   "language": "python",
   "name": "python3"
  },
  "language_info": {
   "codemirror_mode": {
    "name": "ipython",
    "version": 3
   },
   "file_extension": ".py",
   "mimetype": "text/x-python",
   "name": "python",
   "nbconvert_exporter": "python",
   "pygments_lexer": "ipython3",
   "version": "3.10.13"
  },
  "toc": {
   "base_numbering": 1,
   "nav_menu": {},
   "number_sections": true,
   "sideBar": true,
   "skip_h1_title": false,
   "title_cell": "Table of Contents",
   "title_sidebar": "Contents",
   "toc_cell": false,
   "toc_position": {},
   "toc_section_display": true,
   "toc_window_display": false
  }
 },
 "nbformat": 4,
 "nbformat_minor": 5
}
